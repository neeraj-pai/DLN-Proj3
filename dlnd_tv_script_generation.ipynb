{
 "cells": [
  {
   "cell_type": "markdown",
   "metadata": {
    "deletable": true,
    "editable": true
   },
   "source": [
    "# TV Script Generation\n",
    "In this project, you'll generate your own [Simpsons](https://en.wikipedia.org/wiki/The_Simpsons) TV scripts using RNNs.  You'll be using part of the [Simpsons dataset](https://www.kaggle.com/wcukierski/the-simpsons-by-the-data) of scripts from 27 seasons.  The Neural Network you'll build will generate a new TV script for a scene at [Moe's Tavern](https://simpsonswiki.com/wiki/Moe's_Tavern).\n",
    "## Get the Data\n",
    "The data is already provided for you.  You'll be using a subset of the original dataset.  It consists of only the scenes in Moe's Tavern.  This doesn't include other versions of the tavern, like \"Moe's Cavern\", \"Flaming Moe's\", \"Uncle Moe's Family Feed-Bag\", etc.."
   ]
  },
  {
   "cell_type": "code",
   "execution_count": 1,
   "metadata": {
    "collapsed": false,
    "deletable": true,
    "editable": true
   },
   "outputs": [],
   "source": [
    "\"\"\"\n",
    "DON'T MODIFY ANYTHING IN THIS CELL\n",
    "\"\"\"\n",
    "import helper\n",
    "\n",
    "data_dir = './data/simpsons/moes_tavern_lines.txt'\n",
    "text = helper.load_data(data_dir)\n",
    "# Ignore notice, since we don't use it for analysing the data\n",
    "text = text[81:]"
   ]
  },
  {
   "cell_type": "markdown",
   "metadata": {
    "deletable": true,
    "editable": true
   },
   "source": [
    "## Explore the Data\n",
    "Play around with `view_sentence_range` to view different parts of the data."
   ]
  },
  {
   "cell_type": "code",
   "execution_count": 2,
   "metadata": {
    "collapsed": false,
    "deletable": true,
    "editable": true
   },
   "outputs": [
    {
     "name": "stdout",
     "output_type": "stream",
     "text": [
      "Dataset Stats\n",
      "Roughly the number of unique words: 11492\n",
      "Number of scenes: 262\n",
      "Average number of sentences in each scene: 15.251908396946565\n",
      "Number of lines: 4258\n",
      "Average number of words in each line: 11.50164396430249\n",
      "\n",
      "The sentences 0 to 10:\n",
      "\n",
      "Moe_Szyslak: (INTO PHONE) Moe's Tavern. Where the elite meet to drink.\n",
      "Bart_Simpson: Eh, yeah, hello, is Mike there? Last name, Rotch.\n",
      "Moe_Szyslak: (INTO PHONE) Hold on, I'll check. (TO BARFLIES) Mike Rotch. Mike Rotch. Hey, has anybody seen Mike Rotch, lately?\n",
      "Moe_Szyslak: (INTO PHONE) Listen you little puke. One of these days I'm gonna catch you, and I'm gonna carve my name on your back with an ice pick.\n",
      "Moe_Szyslak: What's the matter Homer? You're not your normal effervescent self.\n",
      "Homer_Simpson: I got my problems, Moe. Give me another one.\n",
      "Moe_Szyslak: Homer, hey, you should not drink to forget your problems.\n",
      "Barney_Gumble: Yeah, you should only drink to enhance your social skills.\n",
      "\n"
     ]
    }
   ],
   "source": [
    "view_sentence_range = (0, 10)\n",
    "\n",
    "\"\"\"\n",
    "DON'T MODIFY ANYTHING IN THIS CELL\n",
    "\"\"\"\n",
    "import numpy as np\n",
    "\n",
    "print('Dataset Stats')\n",
    "print('Roughly the number of unique words: {}'.format(len({word: None for word in text.split()})))\n",
    "scenes = text.split('\\n\\n')\n",
    "print('Number of scenes: {}'.format(len(scenes)))\n",
    "sentence_count_scene = [scene.count('\\n') for scene in scenes]\n",
    "print('Average number of sentences in each scene: {}'.format(np.average(sentence_count_scene)))\n",
    "\n",
    "sentences = [sentence for scene in scenes for sentence in scene.split('\\n')]\n",
    "print('Number of lines: {}'.format(len(sentences)))\n",
    "word_count_sentence = [len(sentence.split()) for sentence in sentences]\n",
    "print('Average number of words in each line: {}'.format(np.average(word_count_sentence)))\n",
    "\n",
    "print()\n",
    "print('The sentences {} to {}:'.format(*view_sentence_range))\n",
    "print('\\n'.join(text.split('\\n')[view_sentence_range[0]:view_sentence_range[1]]))"
   ]
  },
  {
   "cell_type": "markdown",
   "metadata": {
    "deletable": true,
    "editable": true
   },
   "source": [
    "## Implement Preprocessing Functions\n",
    "The first thing to do to any dataset is preprocessing.  Implement the following preprocessing functions below:\n",
    "- Lookup Table\n",
    "- Tokenize Punctuation\n",
    "\n",
    "### Lookup Table\n",
    "To create a word embedding, you first need to transform the words to ids.  In this function, create two dictionaries:\n",
    "- Dictionary to go from the words to an id, we'll call `vocab_to_int`\n",
    "- Dictionary to go from the id to word, we'll call `int_to_vocab`\n",
    "\n",
    "Return these dictionaries in the following tuple `(vocab_to_int, int_to_vocab)`"
   ]
  },
  {
   "cell_type": "code",
   "execution_count": 18,
   "metadata": {
    "collapsed": false,
    "deletable": true,
    "editable": true
   },
   "outputs": [
    {
     "name": "stdout",
     "output_type": "stream",
     "text": [
      "Tests Passed\n"
     ]
    }
   ],
   "source": [
    "import numpy as np\n",
    "import problem_unittests as tests\n",
    "\n",
    "def create_lookup_tables(text):\n",
    "    \"\"\"\n",
    "    Create lookup tables for vocabulary\n",
    "    :param text: The text of tv scripts split into words\n",
    "    :return: A tuple of dicts (vocab_to_int, int_to_vocab)\n",
    "    \"\"\"\n",
    "    combined_words = set(text)\n",
    "    vocab_to_int = {word: ii for ii, word in enumerate(combined_words, 0)}       \n",
    "    int_to_vocab = dict(enumerate(combined_words,0))    \n",
    "    # TODO: Implement Function\n",
    "    return(vocab_to_int, int_to_vocab)\n",
    "\n",
    "\n",
    "\"\"\"\n",
    "DON'T MODIFY ANYTHING IN THIS CELL THAT IS BELOW THIS LINE\n",
    "\"\"\"\n",
    "tests.test_create_lookup_tables(create_lookup_tables)"
   ]
  },
  {
   "cell_type": "markdown",
   "metadata": {
    "deletable": true,
    "editable": true
   },
   "source": [
    "### Tokenize Punctuation\n",
    "We'll be splitting the script into a word array using spaces as delimiters.  However, punctuations like periods and exclamation marks make it hard for the neural network to distinguish between the word \"bye\" and \"bye!\".\n",
    "\n",
    "Implement the function `token_lookup` to return a dict that will be used to tokenize symbols like \"!\" into \"||Exclamation_Mark||\".  Create a dictionary for the following symbols where the symbol is the key and value is the token:\n",
    "- Period ( . )\n",
    "- Comma ( , )\n",
    "- Quotation Mark ( \" )\n",
    "- Semicolon ( ; )\n",
    "- Exclamation mark ( ! )\n",
    "- Question mark ( ? )\n",
    "- Left Parentheses ( ( )\n",
    "- Right Parentheses ( ) )\n",
    "- Dash ( -- )\n",
    "- Return ( \\n )\n",
    "\n",
    "This dictionary will be used to token the symbols and add the delimiter (space) around it.  This separates the symbols as it's own word, making it easier for the neural network to predict on the next word. Make sure you don't use a token that could be confused as a word. Instead of using the token \"dash\", try using something like \"||dash||\"."
   ]
  },
  {
   "cell_type": "code",
   "execution_count": 19,
   "metadata": {
    "collapsed": false,
    "deletable": true,
    "editable": true
   },
   "outputs": [
    {
     "name": "stdout",
     "output_type": "stream",
     "text": [
      "Tests Passed\n"
     ]
    }
   ],
   "source": [
    "def token_lookup():\n",
    "    \"\"\"\n",
    "    Generate a dict to turn punctuation into a token.\n",
    "    :return: Tokenize dictionary where the key is the punctuation and the value is the token\n",
    "    \"\"\"\n",
    "    # TODO: Implement Function\n",
    "    punc_dict = {'.': '||Period||', ',': '||Comma||', '\"': '||Quotation_Mark||',\\\n",
    "                 ';': '||SemiColon||', '!': '||Exclamation_Mark||', '?': '||Question_Mark||',\\\n",
    "                 '(': '||Left_Parenthesis||', ')': '||Right_Parenthesis||', '--': '||Dash||',\\\n",
    "                 '\\n': '||Return||'}\n",
    "    return punc_dict\n",
    "\n",
    "\"\"\"\n",
    "DON'T MODIFY ANYTHING IN THIS CELL THAT IS BELOW THIS LINE\n",
    "\"\"\"\n",
    "tests.test_tokenize(token_lookup)"
   ]
  },
  {
   "cell_type": "markdown",
   "metadata": {
    "deletable": true,
    "editable": true
   },
   "source": [
    "## Preprocess all the data and save it\n",
    "Running the code cell below will preprocess all the data and save it to file."
   ]
  },
  {
   "cell_type": "code",
   "execution_count": 20,
   "metadata": {
    "collapsed": false,
    "deletable": true,
    "editable": true
   },
   "outputs": [],
   "source": [
    "\"\"\"\n",
    "DON'T MODIFY ANYTHING IN THIS CELL\n",
    "\"\"\"\n",
    "# Preprocess Training, Validation, and Testing Data\n",
    "helper.preprocess_and_save_data(data_dir, token_lookup, create_lookup_tables)"
   ]
  },
  {
   "cell_type": "markdown",
   "metadata": {
    "deletable": true,
    "editable": true
   },
   "source": [
    "# Check Point\n",
    "This is your first checkpoint. If you ever decide to come back to this notebook or have to restart the notebook, you can start from here. The preprocessed data has been saved to disk."
   ]
  },
  {
   "cell_type": "code",
   "execution_count": 2,
   "metadata": {
    "collapsed": false,
    "deletable": true,
    "editable": true
   },
   "outputs": [],
   "source": [
    "\"\"\"\n",
    "DON'T MODIFY ANYTHING IN THIS CELL\n",
    "\"\"\"\n",
    "import helper\n",
    "import numpy as np\n",
    "import problem_unittests as tests\n",
    "\n",
    "int_text, vocab_to_int, int_to_vocab, token_dict = helper.load_preprocess()"
   ]
  },
  {
   "cell_type": "markdown",
   "metadata": {
    "deletable": true,
    "editable": true
   },
   "source": [
    "## Build the Neural Network\n",
    "You'll build the components necessary to build a RNN by implementing the following functions below:\n",
    "- get_inputs\n",
    "- get_init_cell\n",
    "- get_embed\n",
    "- build_rnn\n",
    "- build_nn\n",
    "- get_batches\n",
    "\n",
    "### Check the Version of TensorFlow and Access to GPU"
   ]
  },
  {
   "cell_type": "code",
   "execution_count": 3,
   "metadata": {
    "collapsed": false,
    "deletable": true,
    "editable": true
   },
   "outputs": [
    {
     "name": "stdout",
     "output_type": "stream",
     "text": [
      "TensorFlow Version: 1.0.1\n"
     ]
    },
    {
     "name": "stderr",
     "output_type": "stream",
     "text": [
      "c:\\python35\\lib\\site-packages\\ipykernel\\__main__.py:14: UserWarning: No GPU found. Please use a GPU to train your neural network.\n"
     ]
    }
   ],
   "source": [
    "\"\"\"\n",
    "DON'T MODIFY ANYTHING IN THIS CELL\n",
    "\"\"\"\n",
    "from distutils.version import LooseVersion\n",
    "import warnings\n",
    "import tensorflow as tf\n",
    "\n",
    "# Check TensorFlow Version\n",
    "assert LooseVersion(tf.__version__) >= LooseVersion('1.0'), 'Please use TensorFlow version 1.0 or newer'\n",
    "print('TensorFlow Version: {}'.format(tf.__version__))\n",
    "\n",
    "# Check for a GPU\n",
    "if not tf.test.gpu_device_name():\n",
    "    warnings.warn('No GPU found. Please use a GPU to train your neural network.')\n",
    "else:\n",
    "    print('Default GPU Device: {}'.format(tf.test.gpu_device_name()))"
   ]
  },
  {
   "cell_type": "markdown",
   "metadata": {
    "deletable": true,
    "editable": true
   },
   "source": [
    "### Input\n",
    "Implement the `get_inputs()` function to create TF Placeholders for the Neural Network.  It should create the following placeholders:\n",
    "- Input text placeholder named \"input\" using the [TF Placeholder](https://www.tensorflow.org/api_docs/python/tf/placeholder) `name` parameter.\n",
    "- Targets placeholder\n",
    "- Learning Rate placeholder\n",
    "\n",
    "Return the placeholders in the following the tuple `(Input, Targets, LearingRate)`"
   ]
  },
  {
   "cell_type": "code",
   "execution_count": 4,
   "metadata": {
    "collapsed": false,
    "deletable": true,
    "editable": true
   },
   "outputs": [
    {
     "name": "stdout",
     "output_type": "stream",
     "text": [
      "Tests Passed\n"
     ]
    }
   ],
   "source": [
    "def get_inputs():\n",
    "    \"\"\"\n",
    "    Create TF Placeholders for input, targets, and learning rate.\n",
    "    :return: Tuple (input, targets, learning rate)\n",
    "    \"\"\"\n",
    "    # TODO: Implement Function\n",
    "    inputs = tf.placeholder(tf.int32, [None, None], name='input')\n",
    "    targets = tf.placeholder(tf.int32, [None, None], name='targets')\n",
    "    learning_rate = tf.placeholder(tf.float32, name='learning_rate')\n",
    "    return inputs, targets, learning_rate\n",
    "\n",
    "\n",
    "\"\"\"\n",
    "DON'T MODIFY ANYTHING IN THIS CELL THAT IS BELOW THIS LINE\n",
    "\"\"\"\n",
    "tests.test_get_inputs(get_inputs)"
   ]
  },
  {
   "cell_type": "markdown",
   "metadata": {
    "deletable": true,
    "editable": true
   },
   "source": [
    "### Build RNN Cell and Initialize\n",
    "Stack one or more [`BasicLSTMCells`](https://www.tensorflow.org/api_docs/python/tf/contrib/rnn/BasicLSTMCell) in a [`MultiRNNCell`](https://www.tensorflow.org/api_docs/python/tf/contrib/rnn/MultiRNNCell).\n",
    "- The Rnn size should be set using `rnn_size`\n",
    "- Initalize Cell State using the MultiRNNCell's [`zero_state()`](https://www.tensorflow.org/api_docs/python/tf/contrib/rnn/MultiRNNCell#zero_state) function\n",
    "    - Apply the name \"initial_state\" to the initial state using [`tf.identity()`](https://www.tensorflow.org/api_docs/python/tf/identity)\n",
    "\n",
    "Return the cell and initial state in the following tuple `(Cell, InitialState)`"
   ]
  },
  {
   "cell_type": "code",
   "execution_count": 36,
   "metadata": {
    "collapsed": false,
    "deletable": true,
    "editable": true
   },
   "outputs": [
    {
     "name": "stdout",
     "output_type": "stream",
     "text": [
      "Tests Passed\n"
     ]
    }
   ],
   "source": [
    "lstm_layers = 3\n",
    "keep_prob = 1.0\n",
    "def get_init_cell(batch_size, rnn_size):\n",
    "    \"\"\"\n",
    "    Create an RNN Cell and initialize it.\n",
    "    :param batch_size: Size of batches\n",
    "    :param rnn_size: Size of RNNs\n",
    "    :return: Tuple (cell, initialize state)\n",
    "    \"\"\"\n",
    "    # TODO: Implement Function    \n",
    "    # Your basic LSTM cell\n",
    "    lstm = tf.contrib.rnn.BasicLSTMCell(rnn_size)\n",
    "    \n",
    "    drop = tf.contrib.rnn.DropoutWrapper(lstm, output_keep_prob=keep_prob)\n",
    "    # Stack up multiple LSTM layers, for deep learning\n",
    "    Cell = tf.contrib.rnn.MultiRNNCell([drop] * lstm_layers)\n",
    "    \n",
    "    # Getting an initial state of all zeros\n",
    "    InitialState = Cell.zero_state(batch_size, tf.float32)\n",
    "    InitialState = tf.identity(InitialState, name='initial_state')\n",
    "    \n",
    "    return Cell, InitialState\n",
    "\n",
    "\n",
    "\"\"\"\n",
    "DON'T MODIFY ANYTHING IN THIS CELL THAT IS BELOW THIS LINE\n",
    "\"\"\"\n",
    "tests.test_get_init_cell(get_init_cell)"
   ]
  },
  {
   "cell_type": "markdown",
   "metadata": {
    "deletable": true,
    "editable": true
   },
   "source": [
    "### Word Embedding\n",
    "Apply embedding to `input_data` using TensorFlow.  Return the embedded sequence."
   ]
  },
  {
   "cell_type": "code",
   "execution_count": 37,
   "metadata": {
    "collapsed": false,
    "deletable": true,
    "editable": true
   },
   "outputs": [
    {
     "name": "stdout",
     "output_type": "stream",
     "text": [
      "Tests Passed\n"
     ]
    }
   ],
   "source": [
    "def get_embed(input_data, vocab_size, embed_dim):\n",
    "    \"\"\"\n",
    "    Create embedding for <input_data>.\n",
    "    :param input_data: TF placeholder for text input.\n",
    "    :param vocab_size: Number of words in vocabulary.\n",
    "    :param embed_dim: Number of embedding dimensions\n",
    "    :return: Embedded input.\n",
    "    \"\"\"\n",
    "    # TODO: Implement Function\n",
    "    embedding = tf.Variable(tf.random_uniform((vocab_size, embed_dim), -1, 1))\n",
    "    embed = tf.nn.embedding_lookup(embedding, input_data)\n",
    "    return embed\n",
    "\n",
    "\n",
    "\"\"\"\n",
    "DON'T MODIFY ANYTHING IN THIS CELL THAT IS BELOW THIS LINE\n",
    "\"\"\"\n",
    "tests.test_get_embed(get_embed)"
   ]
  },
  {
   "cell_type": "markdown",
   "metadata": {
    "deletable": true,
    "editable": true
   },
   "source": [
    "### Build RNN\n",
    "You created a RNN Cell in the `get_init_cell()` function.  Time to use the cell to create a RNN.\n",
    "- Build the RNN using the [`tf.nn.dynamic_rnn()`](https://www.tensorflow.org/api_docs/python/tf/nn/dynamic_rnn)\n",
    " - Apply the name \"final_state\" to the final state using [`tf.identity()`](https://www.tensorflow.org/api_docs/python/tf/identity)\n",
    "\n",
    "Return the outputs and final_state state in the following tuple `(Outputs, FinalState)` "
   ]
  },
  {
   "cell_type": "code",
   "execution_count": 38,
   "metadata": {
    "collapsed": false,
    "deletable": true,
    "editable": true
   },
   "outputs": [
    {
     "name": "stdout",
     "output_type": "stream",
     "text": [
      "Tests Passed\n"
     ]
    }
   ],
   "source": [
    "def build_rnn(cell, inputs):\n",
    "    \"\"\"\n",
    "    Create a RNN using a RNN Cell\n",
    "    :param cell: RNN Cell\n",
    "    :param inputs: Input text data\n",
    "    :return: Tuple (Outputs, Final State)\n",
    "    \"\"\"\n",
    "    # TODO: Implement Function\n",
    "    \n",
    "    # Getting an initial state of all zeros\n",
    "    size = tf.shape(inputs)    \n",
    "    InitialState = cell.zero_state(size[0], tf.float32)\n",
    "    \n",
    "    Outputs, FinalState = tf.nn.dynamic_rnn(cell, inputs, initial_state=InitialState)\n",
    "    FinalState = tf.identity(FinalState, name='final_state')\n",
    "    return Outputs, FinalState\n",
    "\n",
    "\n",
    "\"\"\"\n",
    "DON'T MODIFY ANYTHING IN THIS CELL THAT IS BELOW THIS LINE\n",
    "\"\"\"\n",
    "tests.test_build_rnn(build_rnn)"
   ]
  },
  {
   "cell_type": "markdown",
   "metadata": {
    "deletable": true,
    "editable": true
   },
   "source": [
    "### Build the Neural Network\n",
    "Apply the functions you implemented above to:\n",
    "- Apply embedding to `input_data` using your `get_embed(input_data, vocab_size, embed_dim)` function.\n",
    "- Build RNN using `cell` and your `build_rnn(cell, inputs)` function.\n",
    "- Apply a fully connected layer with a linear activation and `vocab_size` as the number of outputs.\n",
    "\n",
    "Return the logits and final state in the following tuple (Logits, FinalState) "
   ]
  },
  {
   "cell_type": "code",
   "execution_count": 39,
   "metadata": {
    "collapsed": false,
    "deletable": true,
    "editable": true
   },
   "outputs": [
    {
     "name": "stdout",
     "output_type": "stream",
     "text": [
      "Tests Passed\n"
     ]
    }
   ],
   "source": [
    "def build_nn(cell, rnn_size, input_data, vocab_size):\n",
    "    \"\"\"\n",
    "    Build part of the neural network\n",
    "    :param cell: RNN cell\n",
    "    :param rnn_size: Size of rnns\n",
    "    :param input_data: Input data\n",
    "    :param vocab_size: Vocabulary size\n",
    "    :return: Tuple (Logits, FinalState)\n",
    "    \"\"\"\n",
    "    # TODO: Implement Function\n",
    "    embed = get_embed(input_data, vocab_size, rnn_size)\n",
    "    Outputs, FinalState = build_rnn(cell,embed)\n",
    "    Logits = tf.contrib.layers.fully_connected(Outputs, vocab_size, activation_fn=None, \n",
    "                                               weights_initializer = tf.truncated_normal_initializer(stddev=0.1),\n",
    "                                               biases_initializer=tf.zeros_initializer())\n",
    "    return Logits, FinalState\n",
    "\n",
    "\n",
    "\"\"\"\n",
    "DON'T MODIFY ANYTHING IN THIS CELL THAT IS BELOW THIS LINE\n",
    "\"\"\"\n",
    "tests.test_build_nn(build_nn)"
   ]
  },
  {
   "cell_type": "markdown",
   "metadata": {
    "deletable": true,
    "editable": true
   },
   "source": [
    "### Batches\n",
    "Implement `get_batches` to create batches of input and targets using `int_text`.  The batches should be a Numpy array with the shape `(number of batches, 2, batch size, sequence length)`. Each batch contains two elements:\n",
    "- The first element is a single batch of **input** with the shape `[batch size, sequence length]`\n",
    "- The second element is a single batch of **targets** with the shape `[batch size, sequence length]`\n",
    "\n",
    "If you can't fill the last batch with enough data, drop the last batch.\n",
    "\n",
    "For exmple, `get_batches([1, 2, 3, 4, 5, 6, 7, 8, 9, 10, 11, 12, 13, 14, 15], 2, 3)` would return a Numpy array of the following:\n",
    "```\n",
    "[\n",
    "  # First Batch\n",
    "  [\n",
    "    # Batch of Input\n",
    "    [[ 1  2  3], [ 7  8  9]],\n",
    "    # Batch of targets\n",
    "    [[ 2  3  4], [ 8  9 10]]\n",
    "  ],\n",
    " \n",
    "  # Second Batch\n",
    "  [\n",
    "    # Batch of Input\n",
    "    [[ 4  5  6], [10 11 12]],\n",
    "    # Batch of targets\n",
    "    [[ 5  6  7], [11 12 13]]\n",
    "  ]\n",
    "]\n",
    "```"
   ]
  },
  {
   "cell_type": "code",
   "execution_count": 40,
   "metadata": {
    "collapsed": false,
    "deletable": true,
    "editable": true
   },
   "outputs": [
    {
     "name": "stdout",
     "output_type": "stream",
     "text": [
      "Tests Passed\n"
     ]
    }
   ],
   "source": [
    "def get_batches(int_text, batch_size, seq_length):\n",
    "    \"\"\"\n",
    "    Return batches of input and target\n",
    "    :param int_text: Text with the words replaced by their ids\n",
    "    :param batch_size: The size of batch\n",
    "    :param seq_length: The length of sequence\n",
    "    :return: Batches as a Numpy array\n",
    "    \"\"\"\n",
    "    # TODO: Implement Function       \n",
    "    num_batches = int(np.floor(len(int_text) / (batch_size*seq_length)))    \n",
    "    OutputArray = np.zeros((num_batches, 2, batch_size, seq_length), dtype=np.int)\n",
    "    for ii in range(0,num_batches-1):\n",
    "            for jj in range(0,batch_size-1):\n",
    "                    start_index = jj*num_batches*seq_length + 1 + ii * seq_length\n",
    "                    #print(start_index)\n",
    "                    end_index = start_index + seq_length                    \n",
    "                    OutputArray[ii,0,jj,:] = int_text[start_index:end_index]\n",
    "                    OutputArray[ii,1,jj,:] = int_text[start_index + 1:end_index + 1]            \n",
    "    return OutputArray\n",
    "\n",
    "\n",
    "\"\"\"\n",
    "DON'T MODIFY ANYTHING IN THIS CELL THAT IS BELOW THIS LINE\n",
    "\"\"\"\n",
    "tests.test_get_batches(get_batches)"
   ]
  },
  {
   "cell_type": "markdown",
   "metadata": {
    "deletable": true,
    "editable": true
   },
   "source": [
    "## Neural Network Training\n",
    "### Hyperparameters\n",
    "Tune the following parameters:\n",
    "\n",
    "- Set `num_epochs` to the number of epochs.\n",
    "- Set `batch_size` to the batch size.\n",
    "- Set `rnn_size` to the size of the RNNs.\n",
    "- Set `seq_length` to the length of sequence.\n",
    "- Set `learning_rate` to the learning rate.\n",
    "- Set `show_every_n_batches` to the number of batches the neural network should print progress."
   ]
  },
  {
   "cell_type": "code",
   "execution_count": 41,
   "metadata": {
    "collapsed": true,
    "deletable": true,
    "editable": true
   },
   "outputs": [],
   "source": [
    "# Number of Epochs\n",
    "num_epochs = 10\n",
    "# Batch Size\n",
    "batch_size = 128\n",
    "# RNN Size\n",
    "rnn_size = 512\n",
    "# Sequence Length\n",
    "seq_length = 10\n",
    "# Learning Rate\n",
    "learning_rate = 0.01\n",
    "# Show stats for every n number of batches\n",
    "show_every_n_batches = 2\n",
    "\n",
    "\"\"\"\n",
    "DON'T MODIFY ANYTHING IN THIS CELL THAT IS BELOW THIS LINE\n",
    "\"\"\"\n",
    "save_dir = './save'"
   ]
  },
  {
   "cell_type": "markdown",
   "metadata": {
    "deletable": true,
    "editable": true
   },
   "source": [
    "### Build the Graph\n",
    "Build the graph using the neural network you implemented."
   ]
  },
  {
   "cell_type": "code",
   "execution_count": 42,
   "metadata": {
    "collapsed": false,
    "deletable": true,
    "editable": true
   },
   "outputs": [],
   "source": [
    "\"\"\"\n",
    "DON'T MODIFY ANYTHING IN THIS CELL\n",
    "\"\"\"\n",
    "from tensorflow.contrib import seq2seq\n",
    "\n",
    "train_graph = tf.Graph()\n",
    "with train_graph.as_default():\n",
    "    vocab_size = len(int_to_vocab)\n",
    "    input_text, targets, lr = get_inputs()\n",
    "    input_data_shape = tf.shape(input_text)\n",
    "    cell, initial_state = get_init_cell(input_data_shape[0], rnn_size)\n",
    "    logits, final_state = build_nn(cell, rnn_size, input_text, vocab_size)\n",
    "\n",
    "    # Probabilities for generating words\n",
    "    probs = tf.nn.softmax(logits, name='probs')\n",
    "\n",
    "    # Loss function\n",
    "    cost = seq2seq.sequence_loss(\n",
    "        logits,\n",
    "        targets,\n",
    "        tf.ones([input_data_shape[0], input_data_shape[1]]))\n",
    "\n",
    "    # Optimizer\n",
    "    optimizer = tf.train.AdamOptimizer(lr)\n",
    "\n",
    "    # Gradient Clipping\n",
    "    gradients = optimizer.compute_gradients(cost)\n",
    "    capped_gradients = [(tf.clip_by_value(grad, -1., 1.), var) for grad, var in gradients]\n",
    "    train_op = optimizer.apply_gradients(capped_gradients)"
   ]
  },
  {
   "cell_type": "markdown",
   "metadata": {
    "deletable": true,
    "editable": true
   },
   "source": [
    "## Train\n",
    "Train the neural network on the preprocessed data.  If you have a hard time getting a good loss, check the [forms](https://discussions.udacity.com/) to see if anyone is having the same problem."
   ]
  },
  {
   "cell_type": "code",
   "execution_count": 43,
   "metadata": {
    "collapsed": false,
    "deletable": true,
    "editable": true
   },
   "outputs": [
    {
     "name": "stdout",
     "output_type": "stream",
     "text": [
      "Epoch   0 Batch    0/53   train_loss = 8.822\n",
      "Epoch   0 Batch    2/53   train_loss = 10.777\n",
      "Epoch   0 Batch    4/53   train_loss = 8.415\n",
      "Epoch   0 Batch    6/53   train_loss = 8.007\n",
      "Epoch   0 Batch    8/53   train_loss = 7.889\n",
      "Epoch   0 Batch   10/53   train_loss = 7.596\n",
      "Epoch   0 Batch   12/53   train_loss = 7.331\n",
      "Epoch   0 Batch   14/53   train_loss = 7.068\n",
      "Epoch   0 Batch   16/53   train_loss = 6.763\n",
      "Epoch   0 Batch   18/53   train_loss = 6.561\n",
      "Epoch   0 Batch   20/53   train_loss = 6.563\n",
      "Epoch   0 Batch   22/53   train_loss = 6.155\n",
      "Epoch   0 Batch   24/53   train_loss = 6.157\n",
      "Epoch   0 Batch   26/53   train_loss = 6.275\n",
      "Epoch   0 Batch   28/53   train_loss = 6.024\n",
      "Epoch   0 Batch   30/53   train_loss = 6.128\n",
      "Epoch   0 Batch   32/53   train_loss = 5.962\n",
      "Epoch   0 Batch   34/53   train_loss = 5.961\n",
      "Epoch   0 Batch   36/53   train_loss = 5.781\n",
      "Epoch   0 Batch   38/53   train_loss = 5.797\n",
      "Epoch   0 Batch   40/53   train_loss = 5.929\n",
      "Epoch   0 Batch   42/53   train_loss = 5.792\n",
      "Epoch   0 Batch   44/53   train_loss = 5.771\n",
      "Epoch   0 Batch   46/53   train_loss = 5.791\n",
      "Epoch   0 Batch   48/53   train_loss = 5.760\n",
      "Epoch   0 Batch   50/53   train_loss = 5.730\n",
      "Epoch   0 Batch   52/53   train_loss = 0.004\n",
      "Epoch   1 Batch    1/53   train_loss = 5.569\n",
      "Epoch   1 Batch    3/53   train_loss = 5.372\n",
      "Epoch   1 Batch    5/53   train_loss = 5.549\n",
      "Epoch   1 Batch    7/53   train_loss = 5.742\n",
      "Epoch   1 Batch    9/53   train_loss = 5.681\n",
      "Epoch   1 Batch   11/53   train_loss = 5.385\n",
      "Epoch   1 Batch   13/53   train_loss = 5.432\n",
      "Epoch   1 Batch   15/53   train_loss = 5.536\n",
      "Epoch   1 Batch   17/53   train_loss = 5.537\n",
      "Epoch   1 Batch   19/53   train_loss = 5.205\n",
      "Epoch   1 Batch   21/53   train_loss = 5.667\n",
      "Epoch   1 Batch   23/53   train_loss = 5.494\n",
      "Epoch   1 Batch   25/53   train_loss = 5.423\n",
      "Epoch   1 Batch   27/53   train_loss = 5.372\n",
      "Epoch   1 Batch   29/53   train_loss = 5.318\n",
      "Epoch   1 Batch   31/53   train_loss = 5.168\n",
      "Epoch   1 Batch   33/53   train_loss = 5.195\n",
      "Epoch   1 Batch   35/53   train_loss = 5.171\n",
      "Epoch   1 Batch   37/53   train_loss = 5.132\n",
      "Epoch   1 Batch   39/53   train_loss = 5.163\n",
      "Epoch   1 Batch   41/53   train_loss = 5.052\n",
      "Epoch   1 Batch   43/53   train_loss = 5.061\n",
      "Epoch   1 Batch   45/53   train_loss = 4.985\n",
      "Epoch   1 Batch   47/53   train_loss = 5.057\n",
      "Epoch   1 Batch   49/53   train_loss = 5.040\n",
      "Epoch   1 Batch   51/53   train_loss = 5.082\n",
      "Epoch   2 Batch    0/53   train_loss = 5.247\n",
      "Epoch   2 Batch    2/53   train_loss = 4.938\n",
      "Epoch   2 Batch    4/53   train_loss = 4.996\n",
      "Epoch   2 Batch    6/53   train_loss = 4.952\n",
      "Epoch   2 Batch    8/53   train_loss = 4.990\n",
      "Epoch   2 Batch   10/53   train_loss = 5.019\n",
      "Epoch   2 Batch   12/53   train_loss = 5.009\n",
      "Epoch   2 Batch   14/53   train_loss = 5.072\n",
      "Epoch   2 Batch   16/53   train_loss = 5.029\n",
      "Epoch   2 Batch   18/53   train_loss = 5.054\n",
      "Epoch   2 Batch   20/53   train_loss = 5.261\n",
      "Epoch   2 Batch   22/53   train_loss = 4.922\n",
      "Epoch   2 Batch   24/53   train_loss = 4.993\n",
      "Epoch   2 Batch   26/53   train_loss = 5.192\n",
      "Epoch   2 Batch   28/53   train_loss = 4.884\n",
      "Epoch   2 Batch   30/53   train_loss = 5.055\n",
      "Epoch   2 Batch   32/53   train_loss = 4.864\n",
      "Epoch   2 Batch   34/53   train_loss = 4.843\n",
      "Epoch   2 Batch   36/53   train_loss = 4.778\n",
      "Epoch   2 Batch   38/53   train_loss = 4.789\n",
      "Epoch   2 Batch   40/53   train_loss = 5.001\n",
      "Epoch   2 Batch   42/53   train_loss = 4.800\n",
      "Epoch   2 Batch   44/53   train_loss = 4.800\n",
      "Epoch   2 Batch   46/53   train_loss = 4.854\n",
      "Epoch   2 Batch   48/53   train_loss = 4.866\n",
      "Epoch   2 Batch   50/53   train_loss = 4.824\n",
      "Epoch   2 Batch   52/53   train_loss = 0.000\n",
      "Epoch   3 Batch    1/53   train_loss = 4.728\n",
      "Epoch   3 Batch    3/53   train_loss = 4.616\n",
      "Epoch   3 Batch    5/53   train_loss = 4.775\n",
      "Epoch   3 Batch    7/53   train_loss = 4.940\n",
      "Epoch   3 Batch    9/53   train_loss = 4.903\n",
      "Epoch   3 Batch   11/53   train_loss = 4.657\n",
      "Epoch   3 Batch   13/53   train_loss = 4.757\n",
      "Epoch   3 Batch   15/53   train_loss = 4.827\n",
      "Epoch   3 Batch   17/53   train_loss = 4.760\n",
      "Epoch   3 Batch   19/53   train_loss = 4.532\n",
      "Epoch   3 Batch   21/53   train_loss = 4.967\n",
      "Epoch   3 Batch   23/53   train_loss = 4.864\n",
      "Epoch   3 Batch   25/53   train_loss = 4.843\n",
      "Epoch   3 Batch   27/53   train_loss = 4.795\n",
      "Epoch   3 Batch   29/53   train_loss = 4.730\n",
      "Epoch   3 Batch   31/53   train_loss = 4.572\n",
      "Epoch   3 Batch   33/53   train_loss = 4.688\n",
      "Epoch   3 Batch   35/53   train_loss = 4.637\n",
      "Epoch   3 Batch   37/53   train_loss = 4.572\n",
      "Epoch   3 Batch   39/53   train_loss = 4.583\n",
      "Epoch   3 Batch   41/53   train_loss = 4.492\n",
      "Epoch   3 Batch   43/53   train_loss = 4.482\n",
      "Epoch   3 Batch   45/53   train_loss = 4.506\n",
      "Epoch   3 Batch   47/53   train_loss = 4.544\n",
      "Epoch   3 Batch   49/53   train_loss = 4.541\n",
      "Epoch   3 Batch   51/53   train_loss = 4.639\n",
      "Epoch   4 Batch    0/53   train_loss = 4.786\n",
      "Epoch   4 Batch    2/53   train_loss = 4.500\n",
      "Epoch   4 Batch    4/53   train_loss = 4.580\n",
      "Epoch   4 Batch    6/53   train_loss = 4.483\n",
      "Epoch   4 Batch    8/53   train_loss = 4.546\n",
      "Epoch   4 Batch   10/53   train_loss = 4.574\n",
      "Epoch   4 Batch   12/53   train_loss = 4.533\n",
      "Epoch   4 Batch   14/53   train_loss = 4.620\n",
      "Epoch   4 Batch   16/53   train_loss = 4.551\n",
      "Epoch   4 Batch   18/53   train_loss = 4.571\n",
      "Epoch   4 Batch   20/53   train_loss = 4.741\n",
      "Epoch   4 Batch   22/53   train_loss = 4.418\n",
      "Epoch   4 Batch   24/53   train_loss = 4.505\n",
      "Epoch   4 Batch   26/53   train_loss = 4.703\n",
      "Epoch   4 Batch   28/53   train_loss = 4.435\n",
      "Epoch   4 Batch   30/53   train_loss = 4.581\n",
      "Epoch   4 Batch   32/53   train_loss = 4.400\n",
      "Epoch   4 Batch   34/53   train_loss = 4.398\n",
      "Epoch   4 Batch   36/53   train_loss = 4.336\n",
      "Epoch   4 Batch   38/53   train_loss = 4.369\n",
      "Epoch   4 Batch   40/53   train_loss = 4.555\n",
      "Epoch   4 Batch   42/53   train_loss = 4.396\n",
      "Epoch   4 Batch   44/53   train_loss = 4.367\n",
      "Epoch   4 Batch   46/53   train_loss = 4.443\n",
      "Epoch   4 Batch   48/53   train_loss = 4.456\n",
      "Epoch   4 Batch   50/53   train_loss = 4.410\n",
      "Epoch   4 Batch   52/53   train_loss = 0.000\n",
      "Epoch   5 Batch    1/53   train_loss = 4.355\n",
      "Epoch   5 Batch    3/53   train_loss = 4.301\n",
      "Epoch   5 Batch    5/53   train_loss = 4.387\n",
      "Epoch   5 Batch    7/53   train_loss = 4.562\n",
      "Epoch   5 Batch    9/53   train_loss = 4.497\n",
      "Epoch   5 Batch   11/53   train_loss = 4.297\n",
      "Epoch   5 Batch   13/53   train_loss = 4.383\n",
      "Epoch   5 Batch   15/53   train_loss = 4.466\n",
      "Epoch   5 Batch   17/53   train_loss = 4.378\n",
      "Epoch   5 Batch   19/53   train_loss = 4.238\n",
      "Epoch   5 Batch   21/53   train_loss = 4.551\n",
      "Epoch   5 Batch   23/53   train_loss = 4.450\n",
      "Epoch   5 Batch   25/53   train_loss = 4.425\n",
      "Epoch   5 Batch   27/53   train_loss = 4.411\n",
      "Epoch   5 Batch   29/53   train_loss = 4.347\n",
      "Epoch   5 Batch   31/53   train_loss = 4.228\n",
      "Epoch   5 Batch   33/53   train_loss = 4.383\n",
      "Epoch   5 Batch   35/53   train_loss = 4.321\n",
      "Epoch   5 Batch   37/53   train_loss = 4.247\n",
      "Epoch   5 Batch   39/53   train_loss = 4.200\n",
      "Epoch   5 Batch   41/53   train_loss = 4.159\n",
      "Epoch   5 Batch   43/53   train_loss = 4.112\n",
      "Epoch   5 Batch   45/53   train_loss = 4.194\n",
      "Epoch   5 Batch   47/53   train_loss = 4.150\n",
      "Epoch   5 Batch   49/53   train_loss = 4.187\n",
      "Epoch   5 Batch   51/53   train_loss = 4.215\n",
      "Epoch   6 Batch    0/53   train_loss = 4.339\n",
      "Epoch   6 Batch    2/53   train_loss = 4.124\n",
      "Epoch   6 Batch    4/53   train_loss = 4.214\n",
      "Epoch   6 Batch    6/53   train_loss = 4.164\n",
      "Epoch   6 Batch    8/53   train_loss = 4.216\n",
      "Epoch   6 Batch   10/53   train_loss = 4.251\n",
      "Epoch   6 Batch   12/53   train_loss = 4.181\n",
      "Epoch   6 Batch   14/53   train_loss = 4.267\n",
      "Epoch   6 Batch   16/53   train_loss = 4.197\n",
      "Epoch   6 Batch   18/53   train_loss = 4.271\n",
      "Epoch   6 Batch   20/53   train_loss = 4.395\n",
      "Epoch   6 Batch   22/53   train_loss = 4.080\n",
      "Epoch   6 Batch   24/53   train_loss = 4.122\n",
      "Epoch   6 Batch   26/53   train_loss = 4.302\n",
      "Epoch   6 Batch   28/53   train_loss = 4.108\n",
      "Epoch   6 Batch   30/53   train_loss = 4.279\n",
      "Epoch   6 Batch   32/53   train_loss = 4.076\n",
      "Epoch   6 Batch   34/53   train_loss = 4.095\n",
      "Epoch   6 Batch   36/53   train_loss = 4.070\n",
      "Epoch   6 Batch   38/53   train_loss = 4.079\n",
      "Epoch   6 Batch   40/53   train_loss = 4.219\n",
      "Epoch   6 Batch   42/53   train_loss = 4.049\n",
      "Epoch   6 Batch   44/53   train_loss = 4.041\n",
      "Epoch   6 Batch   46/53   train_loss = 4.133\n",
      "Epoch   6 Batch   48/53   train_loss = 4.183\n",
      "Epoch   6 Batch   50/53   train_loss = 4.165\n",
      "Epoch   6 Batch   52/53   train_loss = 0.000\n",
      "Epoch   7 Batch    1/53   train_loss = 4.117\n",
      "Epoch   7 Batch    3/53   train_loss = 4.032\n",
      "Epoch   7 Batch    5/53   train_loss = 4.120\n",
      "Epoch   7 Batch    7/53   train_loss = 4.265\n",
      "Epoch   7 Batch    9/53   train_loss = 4.149\n",
      "Epoch   7 Batch   11/53   train_loss = 3.977\n",
      "Epoch   7 Batch   13/53   train_loss = 4.123\n",
      "Epoch   7 Batch   15/53   train_loss = 4.151\n",
      "Epoch   7 Batch   17/53   train_loss = 4.025\n",
      "Epoch   7 Batch   19/53   train_loss = 3.925\n",
      "Epoch   7 Batch   21/53   train_loss = 4.225\n",
      "Epoch   7 Batch   23/53   train_loss = 4.139\n",
      "Epoch   7 Batch   25/53   train_loss = 4.088\n",
      "Epoch   7 Batch   27/53   train_loss = 4.106\n",
      "Epoch   7 Batch   29/53   train_loss = 4.125\n",
      "Epoch   7 Batch   31/53   train_loss = 3.910\n",
      "Epoch   7 Batch   33/53   train_loss = 4.092\n",
      "Epoch   7 Batch   35/53   train_loss = 3.973\n",
      "Epoch   7 Batch   37/53   train_loss = 4.026\n",
      "Epoch   7 Batch   39/53   train_loss = 3.959\n",
      "Epoch   7 Batch   41/53   train_loss = 3.919\n",
      "Epoch   7 Batch   43/53   train_loss = 3.867\n",
      "Epoch   7 Batch   45/53   train_loss = 3.943\n",
      "Epoch   7 Batch   47/53   train_loss = 3.974\n",
      "Epoch   7 Batch   49/53   train_loss = 3.976\n",
      "Epoch   7 Batch   51/53   train_loss = 4.036\n",
      "Epoch   8 Batch    0/53   train_loss = 4.173\n",
      "Epoch   8 Batch    2/53   train_loss = 3.921\n",
      "Epoch   8 Batch    4/53   train_loss = 4.051\n",
      "Epoch   8 Batch    6/53   train_loss = 3.942\n",
      "Epoch   8 Batch    8/53   train_loss = 3.949\n",
      "Epoch   8 Batch   10/53   train_loss = 3.945\n",
      "Epoch   8 Batch   12/53   train_loss = 3.893\n",
      "Epoch   8 Batch   14/53   train_loss = 4.015\n",
      "Epoch   8 Batch   16/53   train_loss = 3.931\n",
      "Epoch   8 Batch   18/53   train_loss = 4.047\n",
      "Epoch   8 Batch   20/53   train_loss = 4.177\n",
      "Epoch   8 Batch   22/53   train_loss = 3.961\n",
      "Epoch   8 Batch   24/53   train_loss = 3.941\n",
      "Epoch   8 Batch   26/53   train_loss = 4.104\n",
      "Epoch   8 Batch   28/53   train_loss = 3.856\n",
      "Epoch   8 Batch   30/53   train_loss = 4.064\n",
      "Epoch   8 Batch   32/53   train_loss = 3.886\n",
      "Epoch   8 Batch   34/53   train_loss = 3.926\n",
      "Epoch   8 Batch   36/53   train_loss = 3.941\n",
      "Epoch   8 Batch   38/53   train_loss = 3.882\n",
      "Epoch   8 Batch   40/53   train_loss = 4.062\n",
      "Epoch   8 Batch   42/53   train_loss = 3.905\n",
      "Epoch   8 Batch   44/53   train_loss = 3.923\n",
      "Epoch   8 Batch   46/53   train_loss = 3.957\n",
      "Epoch   8 Batch   48/53   train_loss = 3.981\n",
      "Epoch   8 Batch   50/53   train_loss = 3.983\n",
      "Epoch   8 Batch   52/53   train_loss = 0.000\n",
      "Epoch   9 Batch    1/53   train_loss = 3.883\n",
      "Epoch   9 Batch    3/53   train_loss = 3.832\n",
      "Epoch   9 Batch    5/53   train_loss = 3.968\n",
      "Epoch   9 Batch    7/53   train_loss = 4.079\n",
      "Epoch   9 Batch    9/53   train_loss = 3.941\n",
      "Epoch   9 Batch   11/53   train_loss = 3.821\n",
      "Epoch   9 Batch   13/53   train_loss = 3.912\n",
      "Epoch   9 Batch   15/53   train_loss = 3.940\n",
      "Epoch   9 Batch   17/53   train_loss = 3.770\n",
      "Epoch   9 Batch   19/53   train_loss = 3.713\n",
      "Epoch   9 Batch   21/53   train_loss = 3.999\n",
      "Epoch   9 Batch   23/53   train_loss = 4.012\n",
      "Epoch   9 Batch   25/53   train_loss = 3.920\n",
      "Epoch   9 Batch   27/53   train_loss = 3.927\n",
      "Epoch   9 Batch   29/53   train_loss = 3.888\n",
      "Epoch   9 Batch   31/53   train_loss = 3.733\n",
      "Epoch   9 Batch   33/53   train_loss = 3.860\n",
      "Epoch   9 Batch   35/53   train_loss = 3.738\n",
      "Epoch   9 Batch   37/53   train_loss = 3.784\n",
      "Epoch   9 Batch   39/53   train_loss = 3.764\n",
      "Epoch   9 Batch   41/53   train_loss = 3.787\n",
      "Epoch   9 Batch   43/53   train_loss = 3.769\n",
      "Epoch   9 Batch   45/53   train_loss = 3.854\n",
      "Epoch   9 Batch   47/53   train_loss = 3.857\n",
      "Epoch   9 Batch   49/53   train_loss = 3.823\n",
      "Epoch   9 Batch   51/53   train_loss = 3.895\n",
      "Model Trained and Saved\n"
     ]
    }
   ],
   "source": [
    "\"\"\"\n",
    "DON'T MODIFY ANYTHING IN THIS CELL\n",
    "\"\"\"\n",
    "batches = get_batches(int_text, batch_size, seq_length)\n",
    "\n",
    "with tf.Session(graph=train_graph) as sess:\n",
    "    sess.run(tf.global_variables_initializer())\n",
    "\n",
    "    for epoch_i in range(num_epochs):\n",
    "        state = sess.run(initial_state, {input_text: batches[0][0]})\n",
    "\n",
    "        for batch_i, (x, y) in enumerate(batches):\n",
    "            feed = {\n",
    "                input_text: x,\n",
    "                targets: y,\n",
    "                initial_state: state,\n",
    "                lr: learning_rate}\n",
    "            train_loss, state, _ = sess.run([cost, final_state, train_op], feed)\n",
    "\n",
    "            # Show every <show_every_n_batches> batches\n",
    "            if (epoch_i * len(batches) + batch_i) % show_every_n_batches == 0:\n",
    "                print('Epoch {:>3} Batch {:>4}/{}   train_loss = {:.3f}'.format(\n",
    "                    epoch_i,\n",
    "                    batch_i,\n",
    "                    len(batches),\n",
    "                    train_loss))\n",
    "\n",
    "    # Save Model\n",
    "    saver = tf.train.Saver()\n",
    "    saver.save(sess, save_dir)\n",
    "    print('Model Trained and Saved')"
   ]
  },
  {
   "cell_type": "markdown",
   "metadata": {
    "deletable": true,
    "editable": true
   },
   "source": [
    "## Save Parameters\n",
    "Save `seq_length` and `save_dir` for generating a new TV script."
   ]
  },
  {
   "cell_type": "code",
   "execution_count": 44,
   "metadata": {
    "collapsed": false,
    "deletable": true,
    "editable": true
   },
   "outputs": [],
   "source": [
    "\"\"\"\n",
    "DON'T MODIFY ANYTHING IN THIS CELL\n",
    "\"\"\"\n",
    "# Save parameters for checkpoint\n",
    "helper.save_params((seq_length, save_dir))"
   ]
  },
  {
   "cell_type": "markdown",
   "metadata": {
    "deletable": true,
    "editable": true
   },
   "source": [
    "# Checkpoint"
   ]
  },
  {
   "cell_type": "code",
   "execution_count": 45,
   "metadata": {
    "collapsed": false,
    "deletable": true,
    "editable": true
   },
   "outputs": [],
   "source": [
    "\"\"\"\n",
    "DON'T MODIFY ANYTHING IN THIS CELL\n",
    "\"\"\"\n",
    "import tensorflow as tf\n",
    "import numpy as np\n",
    "import helper\n",
    "import problem_unittests as tests\n",
    "\n",
    "_, vocab_to_int, int_to_vocab, token_dict = helper.load_preprocess()\n",
    "seq_length, load_dir = helper.load_params()"
   ]
  },
  {
   "cell_type": "markdown",
   "metadata": {
    "deletable": true,
    "editable": true
   },
   "source": [
    "## Implement Generate Functions\n",
    "### Get Tensors\n",
    "Get tensors from `loaded_graph` using the function [`get_tensor_by_name()`](https://www.tensorflow.org/api_docs/python/tf/Graph#get_tensor_by_name).  Get the tensors using the following names:\n",
    "- \"input:0\"\n",
    "- \"initial_state:0\"\n",
    "- \"final_state:0\"\n",
    "- \"probs:0\"\n",
    "\n",
    "Return the tensors in the following tuple `(InputTensor, InitialStateTensor, FinalStateTensor, ProbsTensor)` "
   ]
  },
  {
   "cell_type": "code",
   "execution_count": 46,
   "metadata": {
    "collapsed": false,
    "deletable": true,
    "editable": true
   },
   "outputs": [
    {
     "name": "stdout",
     "output_type": "stream",
     "text": [
      "Tests Passed\n"
     ]
    }
   ],
   "source": [
    "def get_tensors(loaded_graph):\n",
    "    \"\"\"\n",
    "    Get input, initial state, final state, and probabilities tensor from <loaded_graph>\n",
    "    :param loaded_graph: TensorFlow graph loaded from file\n",
    "    :return: Tuple (InputTensor, InitialStateTensor, FinalStateTensor, ProbsTensor)\n",
    "    \"\"\"\n",
    "    # TODO: Implement Function    \n",
    "    inputs = loaded_graph.get_tensor_by_name(\"input:0\")\n",
    "    int_state = loaded_graph.get_tensor_by_name(\"initial_state:0\")\n",
    "    fin_state = loaded_graph.get_tensor_by_name(\"final_state:0\")\n",
    "    prob = loaded_graph.get_tensor_by_name(\"probs:0\")\n",
    "\n",
    "    return inputs, int_state, fin_state, prob\n",
    "\n",
    "\n",
    "\"\"\"\n",
    "DON'T MODIFY ANYTHING IN THIS CELL THAT IS BELOW THIS LINE\n",
    "\"\"\"\n",
    "tests.test_get_tensors(get_tensors)"
   ]
  },
  {
   "cell_type": "markdown",
   "metadata": {
    "deletable": true,
    "editable": true
   },
   "source": [
    "### Choose Word\n",
    "Implement the `pick_word()` function to select the next word using `probabilities`."
   ]
  },
  {
   "cell_type": "code",
   "execution_count": 47,
   "metadata": {
    "collapsed": false,
    "deletable": true,
    "editable": true
   },
   "outputs": [
    {
     "name": "stdout",
     "output_type": "stream",
     "text": [
      "Tests Passed\n"
     ]
    }
   ],
   "source": [
    "top_n = 10#choice of how many to consider while chosing word\n",
    "def pick_word(probabilities, int_to_vocab):\n",
    "    \"\"\"\n",
    "    Pick the next word in the generated text\n",
    "    :param probabilities: Probabilites of the next word\n",
    "    :param int_to_vocab: Dictionary of word ids as the keys and words as the values\n",
    "    :return: String of the predicted word\n",
    "    \"\"\"\n",
    "    # TODO: Implement Function\n",
    "    #max_index = np.argmax(probabilities, axis=0)\n",
    "    #return int_to_vocab[max_index]    \n",
    "    prob = np.squeeze(probabilities)\n",
    "    prob[np.argsort(prob)[:-top_n]] = 0\n",
    "    prob = prob / np.sum(prob)\n",
    "    c = np.random.choice(len(int_to_vocab), 1, p=prob)[0]\n",
    "    return int_to_vocab[c]\n",
    "\n",
    "\n",
    "\n",
    "\n",
    "\"\"\"\n",
    "DON'T MODIFY ANYTHING IN THIS CELL THAT IS BELOW THIS LINE\n",
    "\"\"\"\n",
    "tests.test_pick_word(pick_word)"
   ]
  },
  {
   "cell_type": "markdown",
   "metadata": {
    "deletable": true,
    "editable": true
   },
   "source": [
    "## Generate TV Script\n",
    "This will generate the TV script for you.  Set `gen_length` to the length of TV script you want to generate."
   ]
  },
  {
   "cell_type": "code",
   "execution_count": 48,
   "metadata": {
    "collapsed": false,
    "deletable": true,
    "editable": true
   },
   "outputs": [
    {
     "name": "stdout",
     "output_type": "stream",
     "text": [
      "moe_szyslak: no a little violin. the greatest drawer the life in you the party chick the life of me.(dashes chuckle) oh you worry, i got him your domed person.\n",
      "marge_simpson: oh, i am you right me. i don't see you your elder.(to tv) yeah.(sighs) i got my beer.\n",
      "homer_simpson: no.\n",
      "barney_gumble: i don't be your elder.\n",
      "homer_simpson: i got an new princess at a log.\n",
      "\n",
      "\n",
      "moe_szyslak:(to moe) i don't know if i was an new time and moe.(looks up) then i could make you the little bit off the world.\n",
      "homer_simpson: well, you could tell it the mortal equivalent in the road of the new occurrence, moe, you're gonna let you a road in the life.\n",
      "homer_simpson:(surprised) uh-huh i don't do that as you, uh, no, but i know it's some ice in your sap.\n",
      "homer_simpson: you know, i get a new crap.\n",
      "lenny_leonard: what you make the\n"
     ]
    }
   ],
   "source": [
    "gen_length = 200\n",
    "# homer_simpson, moe_szyslak, or Barney_Gumble\n",
    "prime_word = 'moe_szyslak'\n",
    "\n",
    "\"\"\"\n",
    "DON'T MODIFY ANYTHING IN THIS CELL THAT IS BELOW THIS LINE\n",
    "\"\"\"\n",
    "loaded_graph = tf.Graph()\n",
    "with tf.Session(graph=loaded_graph) as sess:\n",
    "    # Load saved model\n",
    "    loader = tf.train.import_meta_graph(load_dir + '.meta')\n",
    "    loader.restore(sess, load_dir)\n",
    "\n",
    "    # Get Tensors from loaded model\n",
    "    input_text, initial_state, final_state, probs = get_tensors(loaded_graph)\n",
    "\n",
    "    # Sentences generation setup\n",
    "    gen_sentences = [prime_word + ':']\n",
    "    prev_state = sess.run(initial_state, {input_text: np.array([[1]])})\n",
    "\n",
    "    # Generate sentences\n",
    "    for n in range(gen_length):\n",
    "        # Dynamic Input\n",
    "        dyn_input = [[vocab_to_int[word] for word in gen_sentences[-seq_length:]]]\n",
    "        dyn_seq_length = len(dyn_input[0])\n",
    "\n",
    "        # Get Prediction\n",
    "        probabilities, prev_state = sess.run(\n",
    "            [probs, final_state],\n",
    "            {input_text: dyn_input, initial_state: prev_state})\n",
    "        \n",
    "        pred_word = pick_word(probabilities[dyn_seq_length-1], int_to_vocab)\n",
    "\n",
    "        gen_sentences.append(pred_word)\n",
    "    \n",
    "    # Remove tokens\n",
    "    tv_script = ' '.join(gen_sentences)\n",
    "    for key, token in token_dict.items():\n",
    "        ending = ' ' if key in ['\\n', '(', '\"'] else ''\n",
    "        tv_script = tv_script.replace(' ' + token.lower(), key)\n",
    "    tv_script = tv_script.replace('\\n ', '\\n')\n",
    "    tv_script = tv_script.replace('( ', '(')\n",
    "        \n",
    "    print(tv_script)"
   ]
  },
  {
   "cell_type": "markdown",
   "metadata": {
    "deletable": true,
    "editable": true
   },
   "source": [
    "# The TV Script is Nonsensical\n",
    "It's ok if the TV script doesn't make any sense.  We trained on less than a megabyte of text.  In order to get good results, you'll have to use a smaller vocabulary or get more data.  Luckly there's more data!  As we mentioned in the begging of this project, this is a subset of [another dataset](https://www.kaggle.com/wcukierski/the-simpsons-by-the-data).  We didn't have you train on all the data, because that would take too long.  However, you are free to train your neural network on all the data.  After you complete the project, of course.\n",
    "# Submitting This Project\n",
    "When submitting this project, make sure to run all the cells before saving the notebook. Save the notebook file as \"dlnd_tv_script_generation.ipynb\" and save it as a HTML file under \"File\" -> \"Download as\". Include the \"helper.py\" and \"problem_unittests.py\" files in your submission."
   ]
  }
 ],
 "metadata": {
  "kernelspec": {
   "display_name": "Python 3",
   "language": "python",
   "name": "python3"
  },
  "language_info": {
   "codemirror_mode": {
    "name": "ipython",
    "version": 3
   },
   "file_extension": ".py",
   "mimetype": "text/x-python",
   "name": "python",
   "nbconvert_exporter": "python",
   "pygments_lexer": "ipython3",
   "version": "3.5.2"
  }
 },
 "nbformat": 4,
 "nbformat_minor": 0
}
